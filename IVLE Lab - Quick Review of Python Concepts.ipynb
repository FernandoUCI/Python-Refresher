{
 "cells": [
  {
   "cell_type": "markdown",
   "metadata": {},
   "source": [
    "# IVLE Lab - Quick Review of Python Concepts\n",
    "by Fernando Rodriguez\n",
    "Last updated 4-19-18 "
   ]
  },
  {
   "cell_type": "markdown",
   "metadata": {},
   "source": [
    "# Values and Types\n",
    "\n",
    "1. Value - letters of numbers\n",
    "2. Types - integers, floats, and strings.\n",
    "\n",
    "You can check value types by using 'type'"
   ]
  },
  {
   "cell_type": "code",
   "execution_count": null,
   "metadata": {},
   "outputs": [],
   "source": [
    "x = 12\n",
    "print type(x)\n",
    "\n",
    "y = '12'\n",
    "print type(y)\n",
    "\n",
    "z = 12.1\n",
    "print type(z)"
   ]
  },
  {
   "cell_type": "markdown",
   "metadata": {},
   "source": [
    "\n",
    "# Variables\n",
    "1. Variable - name that refers to a value\n",
    "2. Assignment statement - creates new variables and gives them values"
   ]
  },
  {
   "cell_type": "code",
   "execution_count": null,
   "metadata": {
    "collapsed": true
   },
   "outputs": [],
   "source": [
    "message = \"UCI is the best\""
   ]
  },
  {
   "cell_type": "code",
   "execution_count": null,
   "metadata": {
    "collapsed": true
   },
   "outputs": [],
   "source": [
    "n = 15"
   ]
  },
  {
   "cell_type": "code",
   "execution_count": null,
   "metadata": {
    "collapsed": true
   },
   "outputs": [],
   "source": [
    "pi = 3.14"
   ]
  },
  {
   "cell_type": "code",
   "execution_count": null,
   "metadata": {},
   "outputs": [],
   "source": [
    "print message\n",
    "print n\n",
    "print pi"
   ]
  },
  {
   "cell_type": "markdown",
   "metadata": {},
   "source": [
    "# Lists\n",
    "Assign lists to variables using square brackets\n",
    "    "
   ]
  },
  {
   "cell_type": "code",
   "execution_count": null,
   "metadata": {
    "collapsed": true
   },
   "outputs": [],
   "source": [
    "list1 = [2, 4, 6, 9, 13]\n",
    "list2 = [\"2\", \"Dribble\", \"six\", \"soda\", \"23.T\", \"213\"]"
   ]
  },
  {
   "cell_type": "markdown",
   "metadata": {},
   "source": [
    "# Getting list lengths\n",
    "use the len function"
   ]
  },
  {
   "cell_type": "code",
   "execution_count": null,
   "metadata": {},
   "outputs": [],
   "source": [
    "print len(list1)\n",
    "print len(list2)"
   ]
  },
  {
   "cell_type": "markdown",
   "metadata": {},
   "source": [
    "# Getting list types\n",
    "use the type function"
   ]
  },
  {
   "cell_type": "code",
   "execution_count": null,
   "metadata": {
    "collapsed": true
   },
   "outputs": [],
   "source": [
    "type()"
   ]
  },
  {
   "cell_type": "markdown",
   "metadata": {},
   "source": [
    "## Accessing values in lsits via indexing\n",
    "You can get obtain the value of a list by using indexing\n",
    "Indexing starts at 0 (e.g., for list1 2 = 0index)"
   ]
  },
  {
   "cell_type": "code",
   "execution_count": null,
   "metadata": {},
   "outputs": [],
   "source": [
    "print list1[0]"
   ]
  },
  {
   "cell_type": "markdown",
   "metadata": {},
   "source": [
    "# You can also get a slice of a list\n",
    "[#, #] \n",
    "\n",
    "The first index [#, ] will start at that index value\n",
    "\n",
    "The second index [, #] will end at the value before the index value\n"
   ]
  },
  {
   "cell_type": "code",
   "execution_count": null,
   "metadata": {},
   "outputs": [],
   "source": [
    "print list1[1:]"
   ]
  },
  {
   "cell_type": "code",
   "execution_count": null,
   "metadata": {},
   "outputs": [],
   "source": [
    "print list1[:3] # <- index 3, which is the value 9 will not be displayed"
   ]
  },
  {
   "cell_type": "code",
   "execution_count": null,
   "metadata": {},
   "outputs": [],
   "source": [
    "print list1[1:3] "
   ]
  },
  {
   "cell_type": "code",
   "execution_count": null,
   "metadata": {},
   "outputs": [],
   "source": [
    "print list2[1:3] "
   ]
  },
  {
   "cell_type": "markdown",
   "metadata": {},
   "source": [
    "# Splitting Strings\n",
    "We can split strings using the .split method"
   ]
  },
  {
   "cell_type": "code",
   "execution_count": 1,
   "metadata": {},
   "outputs": [
    {
     "name": "stdout",
     "output_type": "stream",
     "text": [
      "['http:', '', 'education.uci.edu']\n",
      "['http:', '', 'education.uci.edu', 'phd-in-education.html']\n"
     ]
    }
   ],
   "source": [
    "url = \"http://education.uci.edu\"\n",
    "soe_phd_url = \"http://education.uci.edu/phd-in-education.html\"\n",
    "\n",
    "print url.split(\"/\")\n",
    "print soe_phd_url.split(\"/\")\n"
   ]
  },
  {
   "cell_type": "markdown",
   "metadata": {},
   "source": [
    "### We can assignin split strings to new variables"
   ]
  },
  {
   "cell_type": "code",
   "execution_count": null,
   "metadata": {
    "collapsed": true
   },
   "outputs": [],
   "source": [
    "split_list = url.split(\"/\")\n"
   ]
  },
  {
   "cell_type": "markdown",
   "metadata": {},
   "source": [
    "### We can also use len functions and slicing on this new list"
   ]
  },
  {
   "cell_type": "code",
   "execution_count": null,
   "metadata": {},
   "outputs": [],
   "source": [
    "print split_list\n",
    "print len(split_list)\n",
    "print split_list[0:2]"
   ]
  },
  {
   "cell_type": "markdown",
   "metadata": {},
   "source": [
    "# Functions\n",
    "Use the keyword 'def' to create a function\n",
    "followed by the name of your function (e.g. 'evenodd')\n",
    "Arguments go in the paretheses\n",
    "Create a name for an argument, which is a placeholder for future arguments you'll put into the function"
   ]
  },
  {
   "cell_type": "code",
   "execution_count": 2,
   "metadata": {
    "collapsed": true
   },
   "outputs": [],
   "source": [
    "def evenodd():\n",
    "    print \"Test\""
   ]
  },
  {
   "cell_type": "code",
   "execution_count": 3,
   "metadata": {},
   "outputs": [
    {
     "name": "stdout",
     "output_type": "stream",
     "text": [
      "Test\n"
     ]
    }
   ],
   "source": [
    "evenodd()"
   ]
  },
  {
   "cell_type": "markdown",
   "metadata": {},
   "source": [
    "Were' going to create a function that shows whether a number stored in a list is either even or odd.\n",
    "\n",
    "<b>`list_of_numbers`</b> is our argument\n",
    "\n",
    "We'll be using <b>for-loops</b> to examine each numer in a list\n",
    "\n",
    "We'll be using <b>if statements</b> and <b>else statements</b> to evalute each number \n",
    "\n",
    "The expression `%` Divides left hand operand by right hand operand and returns remainder"
   ]
  },
  {
   "cell_type": "code",
   "execution_count": 4,
   "metadata": {
    "collapsed": true
   },
   "outputs": [],
   "source": [
    "def evenodd(list_of_numbers):\n",
    "    for values in list_of_numbers:\n",
    "        if values % 2 == 0: \n",
    "            print str(values) + ' is an even number'\n",
    "        else:\n",
    "            print str(values) + ' is an odd number'"
   ]
  },
  {
   "cell_type": "markdown",
   "metadata": {},
   "source": [
    "Let's create some lists to test this\n"
   ]
  },
  {
   "cell_type": "code",
   "execution_count": 5,
   "metadata": {
    "collapsed": true
   },
   "outputs": [],
   "source": [
    "list2 = [3, 6, 3, 8, 5, 7, 2, 9, 1]\n",
    "list3 = [32432, 23432, 45685, 34634, 2323, 9492, 23493]\n",
    "list4 = [3.6, 6.0, 4.8, 7.8, 2.2, 3.0, 9.2, 8.0]\n"
   ]
  },
  {
   "cell_type": "code",
   "execution_count": 6,
   "metadata": {},
   "outputs": [
    {
     "name": "stdout",
     "output_type": "stream",
     "text": [
      "[3, 6, 3, 8, 5, 7, 2, 9, 1]\n"
     ]
    }
   ],
   "source": [
    "print list2"
   ]
  },
  {
   "cell_type": "markdown",
   "metadata": {},
   "source": [
    "Now we can pass the lists as arguments in our function"
   ]
  },
  {
   "cell_type": "code",
   "execution_count": 7,
   "metadata": {},
   "outputs": [
    {
     "name": "stdout",
     "output_type": "stream",
     "text": [
      "3 is an odd number\n",
      "6 is an even number\n",
      "3 is an odd number\n",
      "8 is an even number\n",
      "5 is an odd number\n",
      "7 is an odd number\n",
      "2 is an even number\n",
      "9 is an odd number\n",
      "1 is an odd number\n"
     ]
    }
   ],
   "source": [
    "evenodd(list2)"
   ]
  },
  {
   "cell_type": "code",
   "execution_count": 8,
   "metadata": {},
   "outputs": [
    {
     "name": "stdout",
     "output_type": "stream",
     "text": [
      "3.6 is an odd number\n",
      "6.0 is an even number\n",
      "4.8 is an odd number\n",
      "7.8 is an odd number\n",
      "2.2 is an odd number\n",
      "3.0 is an odd number\n",
      "9.2 is an odd number\n",
      "8.0 is an even number\n"
     ]
    }
   ],
   "source": [
    "evenodd(list4)"
   ]
  },
  {
   "cell_type": "markdown",
   "metadata": {},
   "source": [
    "# Creating a Function that Labels the URL Categories in Clickstream Data"
   ]
  },
  {
   "cell_type": "code",
   "execution_count": 9,
   "metadata": {
    "collapsed": true
   },
   "outputs": [],
   "source": [
    "url_file = \"https://canvas.eee.uci.edu/courses/2230/files/742190?module_item_id=62039\"  # -> categorize as \"files\"\n",
    "url_assignment = \"https://canvas.eee.uci.edu/courses/2230/assignments/49367/submissions\"  # -> categorize as \"assignments\"\n",
    "url_home = \"https://canvas.eee.uci.edu/courses/2230\""
   ]
  },
  {
   "cell_type": "code",
   "execution_count": 10,
   "metadata": {
    "collapsed": true
   },
   "outputs": [],
   "source": [
    "\n",
    "def get_cats_from_url(url):\n",
    "    if len(url.split('/')) < 6:\n",
    "        return \"homepage\"\n",
    "    else:\n",
    "        return url.split('/')[5]"
   ]
  },
  {
   "cell_type": "code",
   "execution_count": 11,
   "metadata": {
    "scrolled": true
   },
   "outputs": [
    {
     "name": "stdout",
     "output_type": "stream",
     "text": [
      "files\n",
      "assignments\n",
      "homepage\n"
     ]
    }
   ],
   "source": [
    "print get_cats_from_url(url_file)\n",
    "print get_cats_from_url(url_assignment)\n",
    "print get_cats_from_url(url_home)"
   ]
  },
  {
   "cell_type": "code",
   "execution_count": null,
   "metadata": {
    "collapsed": true
   },
   "outputs": [],
   "source": []
  }
 ],
 "metadata": {
  "anaconda-cloud": {},
  "kernelspec": {
   "display_name": "Python [default]",
   "language": "python",
   "name": "python2"
  },
  "language_info": {
   "codemirror_mode": {
    "name": "ipython",
    "version": 2
   },
   "file_extension": ".py",
   "mimetype": "text/x-python",
   "name": "python",
   "nbconvert_exporter": "python",
   "pygments_lexer": "ipython2",
   "version": "2.7.13"
  }
 },
 "nbformat": 4,
 "nbformat_minor": 2
}
